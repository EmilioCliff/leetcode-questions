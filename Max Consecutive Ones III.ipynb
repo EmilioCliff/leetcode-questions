{
 "cells": [
  {
   "cell_type": "markdown",
   "id": "b786a939-0b86-4b28-b829-6b0300e9e738",
   "metadata": {},
   "source": [
    "# Max Consecutive Ones III\n",
    "Given a binary array nums and an integer k, return the maximum number of consecutive 1's in the array if you can flip at most k 0's.\n",
    "## Example 1:\n",
    "\n",
    "Input: nums = [1,1,1,0,0,0,1,1,1,1,0], k = 2\n",
    "Output: 6\n",
    "Explanation: [1,1,1,0,0,1,1,1,1,1,1]\n",
    "Bolded numbers were flipped from 0 to 1. The longest subarray is underlined.\n",
    "## Example 2:\n",
    "\n",
    "Input: nums = [0,0,1,1,0,0,1,1,1,0,1,1,0,0,0,1,1,1,1], k = 3\n",
    "Output: 10\n",
    "Explanation: [0,0,1,1,1,1,1,1,1,1,1,1,0,0,0,1,1,1,1]\n",
    "Bolded numbers were flipped from 0 to 1. The longest subarray is underlined.\n",
    " \n",
    "\n",
    "Constraints:\n",
    "\n",
    "1 <= nums.length <= 105\n",
    "nums[i] is either 0 or 1.\n",
    "0 <= k <= nums.length"
   ]
  },
  {
   "cell_type": "code",
   "execution_count": null,
   "id": "f2eb5e30-b981-4537-8e0d-a6d7e66cd766",
   "metadata": {},
   "outputs": [],
   "source": [
    "def longestOnes(self, nums, k):\n",
    "    l,r,res,cnt = 0,0,0,0\n",
    "    while r < len(nums)-1:\n",
    "        if nums[r] == 0:\n",
    "            cnt+=1\n",
    "        while cnt>k:\n",
    "            if nums[l]==0:\n",
    "                cnt-=1\n",
    "            l+=1\n",
    "        res = max(res, r-l+1)\n",
    "        r+=1\n",
    "    return res"
   ]
  }
 ],
 "metadata": {
  "kernelspec": {
   "display_name": "Python 3 (ipykernel)",
   "language": "python",
   "name": "python3"
  },
  "language_info": {
   "codemirror_mode": {
    "name": "ipython",
    "version": 3
   },
   "file_extension": ".py",
   "mimetype": "text/x-python",
   "name": "python",
   "nbconvert_exporter": "python",
   "pygments_lexer": "ipython3",
   "version": "3.10.12"
  }
 },
 "nbformat": 4,
 "nbformat_minor": 5
}
