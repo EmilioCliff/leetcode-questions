{
 "cells": [
  {
   "cell_type": "markdown",
   "id": "baab5d38-121d-416b-9666-489f82d93bfa",
   "metadata": {},
   "source": [
    "Reverse Vowels of a String\n",
    "\n",
    "Given a string s, reverse only all the vowels in the string and return it.\n",
    "\n",
    "The vowels are 'a', 'e', 'i', 'o', and 'u', and they can appear in both lower and upper cases, more than once.\n",
    "\n",
    "Example 1:\n",
    "\n",
    "Input: s = \"hello\"\n",
    "Output: \"holle\"\n",
    "\n",
    "Example 2:\n",
    "\n",
    "Input: s = \"leetcode\"\n",
    "Output: \"leotcede\"\n",
    " \n",
    "\n",
    "Constraints:\n",
    "\n",
    "1 <= s.length <= 3 * 105\n",
    "s consist of printable ASCII characters."
   ]
  },
  {
   "cell_type": "code",
   "execution_count": 3,
   "id": "dedc594e-101d-4996-bb7f-58744f710312",
   "metadata": {},
   "outputs": [
    {
     "name": "stdout",
     "output_type": "stream",
     "text": [
      "sumsang\n"
     ]
    }
   ],
   "source": [
    "def reverseVowels(s):\n",
    "    \"\"\"\n",
    "    :type s: str\n",
    "    :rtype: str\n",
    "    \"\"\"\n",
    "    vowels = 'aeiouAEIOU'\n",
    "    slist = list(s)\n",
    "    start = 0\n",
    "    end = len(s) - 1\n",
    "    while start < end:\n",
    "        if slist[start] not in vowels:\n",
    "            start += 1\n",
    "            continue\n",
    "        if slist[end] not in vowels:\n",
    "            end -= 1\n",
    "            continue\n",
    "        slist[end], slist[start] = slist[start], slist[end]\n",
    "        start += 1\n",
    "        end -= 1\n",
    "    return \"\".join(slist)\n",
    "print(reverseVowels('samsung'))"
   ]
  },
  {
   "cell_type": "code",
   "execution_count": null,
   "id": "0b037ece-49c1-451b-8862-934859a54c88",
   "metadata": {},
   "outputs": [],
   "source": []
  }
 ],
 "metadata": {
  "kernelspec": {
   "display_name": "Python 3 (ipykernel)",
   "language": "python",
   "name": "python3"
  },
  "language_info": {
   "codemirror_mode": {
    "name": "ipython",
    "version": 3
   },
   "file_extension": ".py",
   "mimetype": "text/x-python",
   "name": "python",
   "nbconvert_exporter": "python",
   "pygments_lexer": "ipython3",
   "version": "3.10.12"
  }
 },
 "nbformat": 4,
 "nbformat_minor": 5
}
