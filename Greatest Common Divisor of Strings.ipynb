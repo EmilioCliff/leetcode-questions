{
 "cells": [
  {
   "cell_type": "markdown",
   "id": "e105d899-4ec8-4ed8-9b84-9bfae57e2265",
   "metadata": {},
   "source": [
    "Greatest Common Divisor of Strings\n",
    "\n",
    "For two strings s and t, we say \"t divides s\" if and only if s = t + ... + t (i.e., t is concatenated with itself one or more times).\n",
    "\n",
    "Given two strings str1 and str2, return the largest string x such that x divides both str1 and str2.\n",
    "\n",
    "Example 1:\n",
    "\n",
    "Input: str1 = \"ABCABC\", str2 = \"ABC\"\n",
    "Output: \"ABC\"\n",
    "\n",
    "Example 2:\n",
    "\n",
    "Input: str1 = \"ABABAB\", str2 = \"ABAB\"\n",
    "Output: \"AB\"\n",
    "\n",
    "Example 3:\n",
    "\n",
    "Input: str1 = \"LEET\", str2 = \"CODE\"\n",
    "Output: \"\"\n",
    " \n",
    "\n",
    "Constraints:\n",
    "\n",
    "1 <= str1.length, str2.length <= 1000\n",
    "str1 and str2 consist of English uppercase letters."
   ]
  },
  {
   "cell_type": "code",
   "execution_count": 2,
   "id": "00969da4-9844-4525-80db-ed7580c179a1",
   "metadata": {},
   "outputs": [
    {
     "name": "stdout",
     "output_type": "stream",
     "text": [
      "ABC\n"
     ]
    }
   ],
   "source": [
    "def gcdOfStrings(str1, str2):\n",
    "    \"\"\"\n",
    "    :type str1: str\n",
    "    :type str2: str\n",
    "    :rtype: str\n",
    "    \"\"\"\n",
    "    l1, l2 = len(str1), len(str2)\n",
    "    for l in range(min(l1, l2), 0, -1):\n",
    "        if l1 % l or l2 % l:\n",
    "            continue\n",
    "        f1, f2 = l1 // l, l2 // l\n",
    "        if str2[:l] * f1 == str1 and str2[:l] * f2 == str2:\n",
    "            return str1[:l]\n",
    "    return \"\"\n",
    "print(gcdOfStrings('ABCABCABC', 'ABCABC'))"
   ]
  },
  {
   "cell_type": "code",
   "execution_count": null,
   "id": "e9bcb28f-afb1-4c59-b08b-4b03de58444e",
   "metadata": {},
   "outputs": [],
   "source": []
  }
 ],
 "metadata": {
  "kernelspec": {
   "display_name": "Python 3 (ipykernel)",
   "language": "python",
   "name": "python3"
  },
  "language_info": {
   "codemirror_mode": {
    "name": "ipython",
    "version": 3
   },
   "file_extension": ".py",
   "mimetype": "text/x-python",
   "name": "python",
   "nbconvert_exporter": "python",
   "pygments_lexer": "ipython3",
   "version": "3.10.12"
  }
 },
 "nbformat": 4,
 "nbformat_minor": 5
}
