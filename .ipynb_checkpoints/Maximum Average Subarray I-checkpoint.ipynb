{
 "cells": [
  {
   "cell_type": "markdown",
   "id": "f8525faa-360f-45bf-97ac-220476f9c1c3",
   "metadata": {},
   "source": [
    "# Maximum Average Subarray I\n",
    "You are given an integer array nums consisting of n elements, and an integer k.\n",
    "\n",
    "Find a contiguous subarray whose length is equal to k that has the maximum average value and return this value. Any answer with a calculation error less than 10-5 will be accepted.\n",
    "## Example 1:\n",
    "\n",
    "Input: nums = [1,12,-5,-6,50,3], k = 4\n",
    "Output: 12.75000\n",
    "Explanation: Maximum average is (12 - 5 - 6 + 50) / 4 = 51 / 4 = 12.75\n",
    "## Example 2:\n",
    "\n",
    "Input: nums = [5], k = 1\n",
    "Output: 5.00000\n",
    " \n",
    "\n",
    "Constraints:\n",
    "\n",
    "n == nums.length\n",
    "1 <= k <= n <= 105\n",
    "-104 <= nums[i] <= 104"
   ]
  },
  {
   "cell_type": "code",
   "execution_count": null,
   "id": "4353e563-9209-416d-ab9d-dcf99e114297",
   "metadata": {},
   "outputs": [],
   "source": [
    "def findMaxAverage(self, nums, k):\n",
    "     l, r = 0, k-1\n",
    "     added = sum(nums[l:r+1])\n",
    "     res = added\n",
    "     while r < len(nums)-1:\n",
    "         added -= nums[l]\n",
    "         l+=1\n",
    "         added += nums[r+1]\n",
    "         r+=1\n",
    "         res = max(added, res)\n",
    "         # print(res, added)\n",
    "     return float(res) / k"
   ]
  }
 ],
 "metadata": {
  "kernelspec": {
   "display_name": "Python 3 (ipykernel)",
   "language": "python",
   "name": "python3"
  },
  "language_info": {
   "codemirror_mode": {
    "name": "ipython",
    "version": 3
   },
   "file_extension": ".py",
   "mimetype": "text/x-python",
   "name": "python",
   "nbconvert_exporter": "python",
   "pygments_lexer": "ipython3",
   "version": "3.10.12"
  }
 },
 "nbformat": 4,
 "nbformat_minor": 5
}
