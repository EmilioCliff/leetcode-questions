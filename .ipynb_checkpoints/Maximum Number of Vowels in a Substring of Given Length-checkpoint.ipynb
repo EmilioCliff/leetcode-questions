{
 "cells": [
  {
   "cell_type": "markdown",
   "id": "7832557d-194a-4fb6-9e30-cd3a15948409",
   "metadata": {},
   "source": [
    "# Maximum Number of Vowels in a Substring of Given Length\n",
    "Given a string s and an integer k, return the maximum number of vowel letters in any substring of s with length k.\n",
    "\n",
    "Vowel letters in English are 'a', 'e', 'i', 'o', and 'u'.\n",
    "## Example 1:\n",
    "\n",
    "Input: s = \"abciiidef\", k = 3\n",
    "Output: 3\n",
    "Explanation: The substring \"iii\" contains 3 vowel letters.\n",
    "## Example 2:\n",
    "\n",
    "Input: s = \"aeiou\", k = 2\n",
    "Output: 2\n",
    "Explanation: Any substring of length 2 contains 2 vowels.\n",
    "## Example 3:\n",
    "\n",
    "Input: s = \"leetcode\", k = 3\n",
    "Output: 2\n",
    "Explanation: \"lee\", \"eet\" and \"ode\" contain 2 vowels.\n",
    " \n",
    "\n",
    "Constraints:\n",
    "\n",
    "1 <= s.length <= 105\n",
    "s consists of lowercase English letters.\n",
    "1 <= k <= s.length"
   ]
  },
  {
   "cell_type": "code",
   "execution_count": null,
   "id": "23fcc48d-5a99-4dd9-b005-1ad84786454b",
   "metadata": {},
   "outputs": [],
   "source": [
    "def maxVowels(self, s, k):\n",
    "    vowels = \"aeiouAEIOU\"\n",
    "    l, r = 0, k-1\n",
    "    res = 0\n",
    "    count = 0\n",
    "    for char in s[l:r+1]:\n",
    "        if char in vowels:\n",
    "            count += 1\n",
    "    res = count\n",
    "    while r < len(s)-1:\n",
    "        if s[l] in vowels:\n",
    "            count -= 1\n",
    "        if s[r+1] in vowels:\n",
    "            count += 1\n",
    "        res = max(count, res)\n",
    "        l += 1\n",
    "        r += 1\n",
    "    return res"
   ]
  }
 ],
 "metadata": {
  "kernelspec": {
   "display_name": "Python 3 (ipykernel)",
   "language": "python",
   "name": "python3"
  },
  "language_info": {
   "codemirror_mode": {
    "name": "ipython",
    "version": 3
   },
   "file_extension": ".py",
   "mimetype": "text/x-python",
   "name": "python",
   "nbconvert_exporter": "python",
   "pygments_lexer": "ipython3",
   "version": "3.10.12"
  }
 },
 "nbformat": 4,
 "nbformat_minor": 5
}
