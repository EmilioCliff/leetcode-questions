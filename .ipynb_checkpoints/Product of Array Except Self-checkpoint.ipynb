{
 "cells": [
  {
   "cell_type": "markdown",
   "id": "61f079fa-678b-4896-b643-377723f57cd0",
   "metadata": {},
   "source": [
    "# Product of Array Except Self\n",
    "Given an integer array nums, return an array answer such that answer[i] is equal to the product of all the elements of nums except nums[i].\n",
    "\n",
    "The product of any prefix or suffix of nums is guaranteed to fit in a 32-bit integer.\n",
    "\n",
    "You must write an algorithm that runs in O(n) time and without using the division operation.\n",
    "## Example 1:\n",
    "\n",
    "Input: nums = [1,2,3,4]\n",
    "Output: [24,12,8,6]\n",
    "## Example 2:\n",
    "\n",
    "Input: nums = [-1,1,0,-3,3]\n",
    "Output: [0,0,9,0,0]\n",
    " \n",
    "\n",
    "Constraints:\n",
    "\n",
    "2 <= nums.length <= 105\n",
    "-30 <= nums[i] <= 30\n",
    "The product of any prefix or suffix of nums is guaranteed to fit in a 32-bit integer.\n",
    " \n",
    "\n",
    "Follow up: Can you solve the problem in O(1) extra space complexity? (The output array does not count as extra space for space complexity analysis.)"
   ]
  },
  {
   "cell_type": "code",
   "execution_count": null,
   "id": "392c0974-346b-4171-a6be-6e8926fd1946",
   "metadata": {},
   "outputs": [],
   "source": [
    "def productExceptSelf(self, nums):\n",
    "    \"\"\"\n",
    "    :type nums: List[int]\n",
    "    :rtype: List[int]\n",
    "    \"\"\"\n",
    "    answer = [1]*len(nums)\n",
    "    prefix = 1\n",
    "    for i in range(len(nums)):\n",
    "        answer[i] = prefix\n",
    "        prefix *= nums[i]\n",
    "    postfix = 1\n",
    "    for j in range(len(nums)-1, -1, -1):\n",
    "        answer[j] *= postfix\n",
    "        postfix *= nums[j]\n",
    "    return answer"
   ]
  }
 ],
 "metadata": {
  "kernelspec": {
   "display_name": "Python 3 (ipykernel)",
   "language": "python",
   "name": "python3"
  },
  "language_info": {
   "codemirror_mode": {
    "name": "ipython",
    "version": 3
   },
   "file_extension": ".py",
   "mimetype": "text/x-python",
   "name": "python",
   "nbconvert_exporter": "python",
   "pygments_lexer": "ipython3",
   "version": "3.10.12"
  }
 },
 "nbformat": 4,
 "nbformat_minor": 5
}
