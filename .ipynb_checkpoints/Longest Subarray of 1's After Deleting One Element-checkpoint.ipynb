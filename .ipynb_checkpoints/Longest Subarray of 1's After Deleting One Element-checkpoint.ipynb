{
 "cells": [
  {
   "cell_type": "markdown",
   "id": "30a1bb4d-6b84-420a-9a97-8e46bcdc6987",
   "metadata": {},
   "source": [
    "# Longest Subarray of 1's After Deleting One Element\n",
    "Given a binary array nums, you should delete one element from it.\n",
    "\n",
    "Return the size of the longest non-empty subarray containing only 1's in the resulting array. Return 0 if there is no such subarray.\n",
    "## Example 1:\n",
    "\n",
    "Input: nums = [1,1,0,1]\n",
    "Output: 3\n",
    "Explanation: After deleting the number in position 2, [1,1,1] contains 3 numbers with value of 1's.\n",
    "## Example 2:\n",
    "\n",
    "Input: nums = [0,1,1,1,0,1,1,0,1]\n",
    "Output: 5\n",
    "Explanation: After deleting the number in position 4, [0,1,1,1,1,1,0,1] longest subarray with value of 1's is [1,1,1,1,1].\n",
    "## Example 3:\n",
    "\n",
    "Input: nums = [1,1,1]\n",
    "Output: 2\n",
    "Explanation: You must delete one element.\n",
    " \n",
    "\n",
    "Constraints:\n",
    "\n",
    "1 <= nums.length <= 105\n",
    "nums[i] is either 0 or 1."
   ]
  },
  {
   "cell_type": "code",
   "execution_count": null,
   "id": "9ca29bc6-088b-4093-bce8-8f1ee61959a9",
   "metadata": {},
   "outputs": [],
   "source": [
    "def longestSubarray(self, nums):\n",
    "    cnt,l,res = 1,0,0\n",
    "    for i in range(len(nums)):\n",
    "        if nums[i] == 0:\n",
    "            cnt -= 1\n",
    "        if cnt < 0:\n",
    "            if nums[l] == 0:\n",
    "                cnt += 1\n",
    "            l += 1\n",
    "        res = max(res, i-l)\n",
    "    return res"
   ]
  }
 ],
 "metadata": {
  "kernelspec": {
   "display_name": "Python 3 (ipykernel)",
   "language": "python",
   "name": "python3"
  },
  "language_info": {
   "codemirror_mode": {
    "name": "ipython",
    "version": 3
   },
   "file_extension": ".py",
   "mimetype": "text/x-python",
   "name": "python",
   "nbconvert_exporter": "python",
   "pygments_lexer": "ipython3",
   "version": "3.10.12"
  }
 },
 "nbformat": 4,
 "nbformat_minor": 5
}
