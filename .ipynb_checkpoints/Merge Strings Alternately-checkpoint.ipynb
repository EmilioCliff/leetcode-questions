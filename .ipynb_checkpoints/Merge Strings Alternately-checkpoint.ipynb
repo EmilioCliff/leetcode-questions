{
 "cells": [
  {
   "cell_type": "markdown",
   "id": "3f3f205d-2c88-4e17-b6c9-049721a8c8e0",
   "metadata": {},
   "source": [
    "Merge Strings Alternately\n",
    "\n",
    "You are given two strings word1 and word2. Merge the strings by adding letters in alternating order, starting with word1. If a string is longer than the other, append the additional letters onto the end of the merged string.\n",
    "\n",
    "Return the merged string.\n",
    "\n",
    "Example 1:\n",
    "\n",
    "Input: word1 = \"abc\", word2 = \"pqr\"\n",
    "Output: \"apbqcr\"\n",
    "Explanation: The merged string will be merged as so:\n",
    "word1:  a   b   c\n",
    "word2:    p   q   r\n",
    "merged: a p b q c r\n",
    "\n",
    "Example 2:\n",
    "\n",
    "Input: word1 = \"ab\", word2 = \"pqrs\"\n",
    "Output: \"apbqrs\"\n",
    "Explanation: Notice that as word2 is longer, \"rs\" is appended to the end.\n",
    "word1:  a   b \n",
    "word2:    p   q   r   s\n",
    "merged: a p b q   r   s\n",
    "\n",
    "Example 3:\n",
    "\n",
    "Input: word1 = \"abcd\", word2 = \"pq\"\n",
    "Output: \"apbqcd\"\n",
    "Explanation: Notice that as word1 is longer, \"cd\" is appended to the end.\n",
    "word1:  a   b   c   d\n",
    "word2:    p   q \n",
    "merged: a p b q c   d\n",
    " \n",
    "\n",
    "Constraints:\n",
    "\n",
    "1 <= word1.length, word2.length <= 100\n",
    "word1 and word2 consist of lowercase English letters."
   ]
  },
  {
   "cell_type": "code",
   "execution_count": 4,
   "id": "031f8220-486c-46c0-abc4-d4d05736389f",
   "metadata": {},
   "outputs": [
    {
     "name": "stdout",
     "output_type": "stream",
     "text": [
      "sScCaSsDdCfSvSaDvDfty\n"
     ]
    }
   ],
   "source": [
    "def mergeAlternately(word1, word2):\n",
    "    \"\"\"\n",
    "    :type word1: str\n",
    "    :type word2: str\n",
    "    :rtype: str\n",
    "    \"\"\"\n",
    "    result = \"\"\n",
    "    i = 0\n",
    "    while i < len(word1) or i < len(word2):\n",
    "        if i < len(word1):\n",
    "            result += word1[i]\n",
    "        if i < len(word2):\n",
    "            result += word2[i]\n",
    "        i += 1\n",
    "    return result\n",
    "\n",
    "print(mergeAlternately(\"scasdfvavfty\", \"SCSDCSSDD\"))"
   ]
  },
  {
   "cell_type": "code",
   "execution_count": null,
   "id": "31a77dfb-210f-4e14-b7cb-a207a42244dc",
   "metadata": {},
   "outputs": [],
   "source": []
  }
 ],
 "metadata": {
  "kernelspec": {
   "display_name": "Python 3 (ipykernel)",
   "language": "python",
   "name": "python3"
  },
  "language_info": {
   "codemirror_mode": {
    "name": "ipython",
    "version": 3
   },
   "file_extension": ".py",
   "mimetype": "text/x-python",
   "name": "python",
   "nbconvert_exporter": "python",
   "pygments_lexer": "ipython3",
   "version": "3.10.12"
  }
 },
 "nbformat": 4,
 "nbformat_minor": 5
}
